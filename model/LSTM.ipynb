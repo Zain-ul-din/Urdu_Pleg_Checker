{
  "cells": [
    {
      "cell_type": "code",
      "execution_count": null,
      "metadata": {},
      "outputs": [],
      "source": [
        "# install dependencies\n",
        "\n",
        "%pip install urduhack\n",
        "%pip install nlu pyspark==3.3.1\n",
        "%pip install time\n",
        "%pip install pandas\n",
        "%pip install numpy\n",
        "%pip install sklearn\n",
        "%pip install matplotlib\n",
        "%pip install seaborn\n",
        "%pip install tensorflow\n",
        "%pip install keras\n",
        "%pip install nltk\n",
        "%pip install gensim\n",
        "%pip install typing"
      ]
    },
    {
      "cell_type": "code",
      "execution_count": null,
      "metadata": {
        "colab": {
          "base_uri": "https://localhost:8080/"
        },
        "id": "uwkZkZEtD2z7",
        "outputId": "a703586c-349f-449d-df3f-2af4b4517541"
      },
      "outputs": [
        {
          "name": "stdout",
          "output_type": "stream",
          "text": [
            "Mounted at /content/drive/\n"
          ]
        }
      ],
      "source": [
        "from google.colab import drive\n",
        "drive.mount('/content/drive/')\n",
        "train_df = pd.read_csv('/content/drive/MyDrive/train.csv',encoding='latin-1')\n",
        "test_df= pd.read_csv('/content/drive/MyDrive/test.csv',encoding='latin-1')"
      ]
    },
    {
      "cell_type": "code",
      "execution_count": null,
      "metadata": {
        "id": "7KA6N-tfDiRE"
      },
      "outputs": [],
      "source": [
        "from google.colab import drive\n",
        "drive.mount('/content/drive')"
      ]
    },
    {
      "cell_type": "code",
      "execution_count": 4,
      "metadata": {},
      "outputs": [],
      "source": [
        "import pandas as pd\n",
        "\n",
        "# load dataset locally\n",
        "train_df = pd.read_csv('../data/TestDataset.csv',encoding='latin-1')\n",
        "test_df= pd.read_csv('../data/TestDataset.csv',encoding='latin-1')"
      ]
    },
    {
      "cell_type": "code",
      "execution_count": 5,
      "metadata": {
        "id": "ryxCixOVEU7j"
      },
      "outputs": [],
      "source": [
        "# Remove stop words from text\n",
        "from typing import FrozenSet\n",
        "STOP_WORDS: FrozenSet[str] = frozenset(\"\"\"\n",
        "    آ آئی آئیں آئے آتا آتی آتے آس آمدید آنا آنسہ آنی آنے آپ آگے آہ آہا آیا اب ابھی ابے\n",
        "    ارے اس اسکا اسکی اسکے اسی اسے اف افوہ البتہ الف ان اندر انکا انکی انکے انہوں انہی انہیں اوئے اور اوپر\n",
        "    اوہو اپ اپنا اپنوں اپنی اپنے اپنےآپ اکثر اگر اگرچہ اہاہا ایسا ایسی ایسے ایک بائیں بار بارے بالکل باوجود باہر\n",
        "    بج بجے بخیر بشرطیکہ بعد بعض بغیر بلکہ بن بنا بناؤ بند بڑی بھر بھریں بھی بہت بہتر تاکہ تاہم تب تجھ\n",
        "    تجھی تجھے ترا تری تلک تم تمام تمہارا تمہاروں تمہاری تمہارے تمہیں تو تک تھا تھی تھیں تھے تیرا تیری تیرے\n",
        "    جا جاؤ جائیں جائے جاتا جاتی جاتے جانی جانے جب جبکہ جدھر جس جسے جن جناب جنہوں جنہیں جو جہاں جی جیسا\n",
        "    جیسوں جیسی جیسے حالانکہ حالاں حصہ حضرت خاطر خالی خواہ خوب خود دائیں درمیان دریں دو دوران دوسرا دوسروں دوسری دوں\n",
        "    دکھائیں دی دیئے دیا دیتا دیتی دیتے دیر دینا دینی دینے دیکھو دیں دیے دے ذریعے رکھا رکھتا رکھتی رکھتے رکھنا رکھنی\n",
        "    رکھنے رکھو رکھی رکھے رہ رہا رہتا رہتی رہتے رہنا رہنی رہنے رہو رہی رہیں رہے ساتھ سامنے ساڑھے سب سبھی\n",
        "    سراسر سمیت سوا سوائے سکا سکتا سکتے سہ سہی سی سے شاید شکریہ صاحب صاحبہ صرف ضرور طرح طرف طور علاوہ عین\n",
        "    فقط فلاں فی قبل قطا لئے لائی لائے لاتا لاتی لاتے لانا لانی لانے لایا لو لوجی لوگوں لگ لگا لگتا\n",
        "    لگتی لگی لگیں لگے لہذا لی لیا لیتا لیتی لیتے لیکن لیں لیے لے ماسوا مت مجھ مجھی مجھے محترم محترمہ محض\n",
        "    مرا مرحبا مری مرے مزید مس مسز مسٹر مطابق مل مکرمی مگر مگھر مہربانی میرا میروں میری میرے میں نا نزدیک\n",
        "    نما نہ نہیں نیز نیچے نے و وار واسطے واقعی والا والوں والی والے واہ وجہ ورنہ وغیرہ ولے وگرنہ وہ وہاں\n",
        "    وہی وہیں ویسا ویسے ویں پاس پایا پر پس پلیز پون پونی پونے پھر پہ پہلا پہلی پہلے پیر پیچھے چاہئے\n",
        "    چاہتے چاہیئے چاہے چلا چلو چلیں چلے چناچہ چند چونکہ چکی چکیں چکے ڈالنا ڈالنی ڈالنے ڈالے کئے کا کاش کب کبھی\n",
        "    کدھر کر کرتا کرتی کرتے کرم کرنا کرنے کرو کریں کرے کس کسی کسے کم کن کنہیں کو کوئی کون کونسا\n",
        "    کونسے کچھ کہ کہا کہاں کہہ کہی کہیں کہے کی کیا کیسا کیسے کیونکر کیونکہ کیوں کیے کے گئی گئے گا گنا\n",
        "    گو گویا گی گیا ہائیں ہائے ہاں ہر ہرچند ہرگز ہم ہمارا ہماری ہمارے ہمی ہمیں ہو ہوئی ہوئیں ہوئے ہوا\n",
        "    ہوبہو ہوتا ہوتی ہوتیں ہوتے ہونا ہونگے ہونی ہونے ہوں ہی ہیلو ہیں ہے یا یات یعنی یک یہ یہاں یہی یہیں\n",
        "    \"\"\".split())\n",
        "\n",
        "def remove_stopwords(text: str):\n",
        "    return \" \".join(word for word in text.split() if word not in STOP_WORDS)\n",
        "\n",
        "def NLP(train_df,test_df):\n",
        "    # Urdu Language Stop words list\n",
        "    df_train =  train_df.copy()\n",
        "    df_test  =   test_df.copy()\n",
        "    df_train['Sentence1'] = df_train['Sentence1'].apply(normalize) # To normalize some text, all you need to do pass unicode text. It will return a str with normalized characters both single and combined, proper spaces after digits and punctuations and diacritics(Zabar - Paish) removed.\n",
        "    df_train['Sentence1'] = df_train['Sentence1'].apply(remove_punctuation) # Remove punctuation from text by removing all instances of marks. marks=',;:'\n",
        "    df_train['Sentence1'] = df_train['Sentence1'].apply(remove_accents) # Remove accents from any accented unicode characters in text str, either by transforming them into ascii equivalents or removing them entirely.\n",
        "    df_train['Sentence1'] = df_train['Sentence1'].apply(replace_urls) # Replace all URLs in text str with replace_with str.\n",
        "    df_train['Sentence1'] = df_train['Sentence1'].apply(replace_emails) # Replace all emails in text str with replace_with str.\n",
        "    df_train['Sentence1'] = df_train['Sentence1'].apply(replace_numbers) # Replace all numbers in text str with replace_with str.\n",
        "    df_train['Sentence1'] = df_train['Sentence1'].apply(replace_currency_symbols) # Replace all currency symbols in text str with string specified by replace_with str.\n",
        "    df_train['Sentence1'] = df_train['Sentence1'].apply(normalize_whitespace) ## Given text str, replace one or more spacings with a single space, and one or more linebreaks with a single newline. Also strip leading/trailing whitespace.\n",
        "\n",
        "    df_train['Sentence2'] = df_train['Sentence2'].apply(normalize) # To normalize some text, all you need to do pass unicode text. It will return a str with normalized characters both single and combined, proper spaces after digits and punctuations and diacritics(Zabar - Paish) removed.\n",
        "    df_train['Sentence2'] = df_train['Sentence2'].apply(remove_punctuation) # Remove punctuation from text by removing all instances of marks. marks=',;:'\n",
        "    df_train['Sentence2'] = df_train['Sentence2'].apply(remove_accents) # Remove accents from any accented unicode characters in text str, either by transforming them into ascii equivalents or removing them entirely.\n",
        "    df_train['Sentence2'] = df_train['Sentence2'].apply(replace_urls) # Replace all URLs in text str with replace_with str.\n",
        "    df_train['Sentence2'] = df_train['Sentence2'].apply(replace_emails) # Replace all emails in text str with replace_with str.\n",
        "    df_train['Sentence2'] = df_train['Sentence2'].apply(replace_numbers) # Replace all numbers in text str with replace_with str.\n",
        "    df_train['Sentence2'] = df_train['Sentence2'].apply(replace_currency_symbols) # Replace all currency symbols in text str with string specified by replace_with str.\n",
        "    df_train['Sentence2'] = df_train['Sentence2'].apply(normalize_whitespace) ## Given text str, replace one or more spacings with a single space, and one or more linebreaks with a single newline. Also strip leading/trailing whitespace.\n",
        "\n",
        "    df_test['Sentence1'] = df_test['Sentence1'].apply(normalize) # To normalize some text, all you need to do pass unicode text. It will return a str with normalized characters both single and combined, proper spaces after digits and punctuations and diacritics(Zabar - Paish) removed.\n",
        "    df_test['Sentence1'] = df_test['Sentence1'].apply(remove_punctuation) # Remove punctuation from text by removing all instances of marks. marks=',;:'\n",
        "    df_test['Sentence1'] = df_test['Sentence1'].apply(remove_accents) # Remove accents from any accented unicode characters in text str, either by transforming them into ascii equivalents or removing them entirely.\n",
        "    df_test['Sentence1'] = df_test['Sentence1'].apply(replace_urls) # Replace all URLs in text str with replace_with str.\n",
        "    df_test['Sentence1'] = df_test['Sentence1'].apply(replace_emails) # Replace all emails in text str with replace_with str.\n",
        "    df_test['Sentence1'] = df_test['Sentence1'].apply(replace_numbers) # Replace all numbers in text str with replace_with str.\n",
        "    df_test['Sentence1'] = df_test['Sentence1'].apply(replace_currency_symbols) # Replace all currency symbols in text str with string specified by replace_with str.\n",
        "    df_test['Sentence1'] = df_test['Sentence1'].apply(normalize_whitespace) ## Given text str, replace one or more spacings with a single space, and one or more linebreaks with a single newline. Also strip leading/trailing whitespace.\n",
        "\n",
        "    df_test['Sentence2'] = df_test['Sentence2'].apply(normalize) # To normalize some text, all you need to do pass unicode text. It will return a str with normalized characters both single and combined, proper spaces after digits and punctuations and diacritics(Zabar - Paish) removed.\n",
        "    df_test['Sentence2'] = df_test['Sentence2'].apply(remove_punctuation) # Remove punctuation from text by removing all instances of marks. marks=',;:'\n",
        "    df_test['Sentence2'] = df_test['Sentence2'].apply(remove_accents) # Remove accents from any accented unicode characters in text str, either by transforming them into ascii equivalents or removing them entirely.\n",
        "    df_test['Sentence2'] = df_test['Sentence2'].apply(replace_urls) # Replace all URLs in text str with replace_with str.\n",
        "    df_test['Sentence2'] = df_test['Sentence2'].apply(replace_emails) # Replace all emails in text str with replace_with str.\n",
        "    df_test['Sentence2'] = df_test['Sentence2'].apply(replace_numbers) # Replace all numbers in text str with replace_with str.\n",
        "    df_test['Sentence2'] = df_test['Sentence2'].apply(replace_currency_symbols) # Replace all currency symbols in text str with string specified by replace_with str.\n",
        "    df_test['Sentence2'] = df_test['Sentence2'].apply(normalize_whitespace) ## Given text str, replace one or more spacings with a single space, and one or more linebreaks with a single newline. Also strip leading/trailing whitespace.\n",
        "\n",
        "    df_train['Sentence1'] =  df_train['Sentence1'].apply(remove_stopwords)\n",
        "    df_train['Sentence2'] =  df_train['Sentence2'].apply(remove_stopwords)\n",
        "    df_test['Sentence1'] =  df_train['Sentence1'].apply(remove_stopwords)\n",
        "    df_test['Sentence2'] =  df_train['Sentence2'].apply(remove_stopwords)\n",
        "\n",
        "    sentences1 = list(df_train['Sentence1'])\n",
        "    sentences2 = list(df_train['Sentence2'])\n",
        "    is_similar = list(df_train['Similarity']/2)\n",
        "\n",
        "    sentences1_test = list(df_test['Sentence1'])\n",
        "    sentences2_test = list(df_test['Sentence2'])\n",
        "    is_similar_test = list(df_test['Similarity']/2)\n",
        "\n",
        "    return sentences1,sentences2,is_similar,df_train,df_test,sentences1_test,sentences2_test,is_similar_test"
      ]
    },
    {
      "cell_type": "code",
      "execution_count": 2,
      "metadata": {
        "colab": {
          "base_uri": "https://localhost:8080/",
          "height": 1000
        },
        "id": "r0y8U8PWsmdu",
        "outputId": "6893b7e0-ef72-4b0e-b0f2-632c4308cd29"
      },
      "outputs": [
        {
          "name": "stderr",
          "output_type": "stream",
          "text": [
            "c:\\Users\\Acer\\AppData\\Local\\Programs\\Python\\Python311\\Lib\\site-packages\\tensorflow_addons\\utils\\tfa_eol_msg.py:23: UserWarning: \n",
            "\n",
            "TensorFlow Addons (TFA) has ended development and introduction of new features.\n",
            "TFA has entered a minimal maintenance and release mode until a planned end of life in May 2024.\n",
            "Please modify downstream libraries to take dependencies from other repositories in our TensorFlow community (e.g. Keras, Keras-CV, and Keras-NLP). \n",
            "\n",
            "For more information see: https://github.com/tensorflow/addons/issues/2807 \n",
            "\n",
            "  warnings.warn(\n"
          ]
        },
        {
          "name": "stdout",
          "output_type": "stream",
          "text": [
            "Downloading data from https://github.com/urduhack/resources/releases/download/word_tokenizer/word_tokenizer.zip\n",
            "36788015/36788015 [==============================] - 19s 1us/step\n",
            "Downloading data from https://github.com/urduhack/resources/releases/download/pos_tagger/pos_tagger.zip\n",
            "2761433/2761433 [==============================] - 1s 0us/step\n",
            "Downloading data from https://github.com/urduhack/resources/releases/download/ner/ner.zip\n",
            "11723346/11723346 [==============================] - 5s 0us/step\n",
            "Downloading data from https://github.com/urduhack/resources/releases/download/lemmatizer/ur_lemma_lookup.zip\n",
            "89078/89078 [==============================] - 0s 1us/step\n"
          ]
        }
      ],
      "source": [
        "from time import time\n",
        "import pandas as pd\n",
        "import numpy as np\n",
        "from gensim.models import KeyedVectors\n",
        "import re\n",
        "from nltk.corpus import stopwords\n",
        "from sklearn.model_selection import train_test_split\n",
        "import matplotlib.pyplot as plt\n",
        "import seaborn as sns\n",
        "import itertools\n",
        "import datetime\n",
        "# keras imports\n",
        "from keras.layers import Dense, Input, LSTM, Dropout, Bidirectional\n",
        "from keras.callbacks import EarlyStopping, ModelCheckpoint\n",
        "from keras.layers import BatchNormalization\n",
        "from keras.layers import Embedding\n",
        "from keras.layers import concatenate\n",
        "from keras.callbacks import TensorBoard\n",
        "from keras.models import load_model\n",
        "from keras.models import Model\n",
        "# std imports\n",
        "import time\n",
        "import gc\n",
        "import os\n",
        "\n",
        "import urduhack\n",
        "urduhack.download()\n",
        "from urduhack.normalization import normalize\n",
        "from urduhack.preprocessing import normalize_whitespace, remove_punctuation, remove_accents, replace_urls, replace_emails, replace_numbers, replace_currency_symbols\n",
        "\n",
        "# Remove stop words from text\n",
        "from typing import FrozenSet"
      ]
    },
    {
      "cell_type": "code",
      "execution_count": 6,
      "metadata": {
        "colab": {
          "base_uri": "https://localhost:8080/"
        },
        "id": "YK14uVPaQmtT",
        "outputId": "5e598e75-cb99-402c-e2a7-78b0ca73985f"
      },
      "outputs": [
        {
          "name": "stdout",
          "output_type": "stream",
          "text": [
            "1.0\n"
          ]
        }
      ],
      "source": [
        "import nlu\n",
        "import re\n",
        "sentences1,sentences2,is_similar,df_train,df_test,sentences1_test,sentences2_test,is_similar_test=NLP(train_df,test_df)\n",
        "print(is_similar[0])\n",
        "def text_to_word_list(text):\n",
        "    ''' Pre process and convert texts to a list of words '''\n",
        "    text=str(text)\n",
        "    text = text.split()\n",
        "    return text\n",
        "def embedding(df_train):\n",
        "    vocabulary = dict()\n",
        "    inverse_vocabulary = []\n",
        "    word2vec=nlu.load('ur.embed.urdu_vec_140M_300d')\n",
        "    print(word2vec)\n",
        "    questions_cols = ['Sentence1', 'Sentence2']\n",
        "\n",
        "    dataset=df_train\n",
        "    for index, row in dataset.iterrows():\n",
        "        for question in questions_cols:\n",
        "            q2n = []\n",
        "            for word in text_to_word_list(row[question]):\n",
        "                if word not in vocabulary:\n",
        "                    vocabulary[word] = len(inverse_vocabulary)\n",
        "                    q2n.append(len(inverse_vocabulary))\n",
        "                    inverse_vocabulary.append(word)\n",
        "                else:\n",
        "                    q2n.append(vocabulary[word])\n",
        "            dataset.at[index, question] = q2n\n",
        "    embedding_dim = 300\n",
        "    embeddings = 1 * np.random.randn(len(vocabulary) + 1, embedding_dim)  # This will be the embedding matrix\n",
        "    embeddings[0] = 0\n",
        "    # Build the embedding matrix\n",
        "    for word, index in vocabulary.items():\n",
        "        if word in word2vec.raw_text_column:\n",
        "            embeddings[index] = float(word2vec.raw_text_column)\n",
        "    print(embeddings.shape[0])\n",
        "    del word2vec\n",
        "    return embeddings"
      ]
    },
    {
      "cell_type": "code",
      "execution_count": null,
      "metadata": {
        "colab": {
          "base_uri": "https://localhost:8080/"
        },
        "id": "6TgP3TPXEa2T",
        "outputId": "94320d5a-4706-425a-a71e-bacb85abbcfe"
      },
      "outputs": [],
      "source": [
        "from keras.utils import pad_sequences\n",
        "from keras.preprocessing.text import Tokenizer\n",
        "from gensim.models import Word2Vec\n",
        "import numpy as np\n",
        "import gc\n",
        "import nlu\n",
        "from sklearn import preprocessing\n",
        "scaler=preprocessing.StandardScaler()\n",
        "\n",
        "embeddings=embedding(df_train)\n",
        "embeddings=scaler.fit_transform(embeddings)\n",
        "embeddings_test=embedding(df_test)\n",
        "embeddings_test=scaler.fit_transform(embeddings_test)\n",
        "\n",
        "def train_word2vec(documents, embedding_dim):\n",
        "    model = Word2Vec(documents, min_count=1, size=embedding_dim)\n",
        "    word_vectors = model.wv\n",
        "    del model\n",
        "    return word_vectors\n",
        "\n",
        "def text_to_word_list(text):\n",
        "    ''' Pre process and convert texts to a list of words '''\n",
        "    text=str(text)\n",
        "    text = text.split()\n",
        "    return text\n",
        "\n",
        "def create_embedding_matrix(df_train):\n",
        "    vocabulary=dict()\n",
        "    inverse_vocabulary = []\n",
        "    word2vec=nlu.load('ur.embed.urdu_vec_140M_300d')\n",
        "    questions_cols = ['Sentence1', 'Sentence2']\n",
        "\n",
        "    # Iterate over the questions only of both training and test datasets\n",
        "    dataset=df_train\n",
        "    for index, row in dataset.iterrows():\n",
        "        # Iterate through the text of both questions of the row\n",
        "        for question in questions_cols:\n",
        "            q2n = []  # q2n -> question numbers representation\n",
        "            for word in text_to_word_list(row[question]):\n",
        "                if word not in vocabulary:\n",
        "                    vocabulary[word] = len(inverse_vocabulary)\n",
        "                    q2n.append(len(inverse_vocabulary))\n",
        "                    inverse_vocabulary.append(word)\n",
        "                else:\n",
        "                    q2n.append(vocabulary[word])\n",
        "\n",
        "            # Replace questions as word to question as number representation\n",
        "            dataset.at[index, question] = q2n\n",
        "\n",
        "    embedding_dim = 300\n",
        "    embeddings = 1 * np.random.randn(len(vocabulary) + 1, embedding_dim)  # This will be the embedding matrix\n",
        "    embeddings[0] = 0  # So that the padding will be ignored\n",
        "\n",
        "    # Build the embedding matrix\n",
        "    for word, index in vocabulary.items():\n",
        "        if word in word2vec.raw_text_column:\n",
        "            embeddings[index] = float(word2vec.raw_text_column)\n",
        "    return embeddings\n",
        "\n",
        "def word_embed_meta_data(documents, embedding_dim):\n",
        "    documents = [str(x).split() for x in documents]\n",
        "    tokenizer = Tokenizer()\n",
        "    tokenizer.fit_on_texts(documents)\n",
        "    embedding_matrix = embeddings\n",
        "    gc.collect()\n",
        "    return tokenizer, embedding_matrix\n",
        "\n",
        "def create_train_dev_set(tokenizer, sentences_pair, is_similar, max_sequence_length, validation_split_ratio):\n",
        "    sentences1 = [x[0] for x in sentences_pair]\n",
        "    sentences2 = [x[1] for x in sentences_pair]\n",
        "    train_sequences_1 = tokenizer.texts_to_sequences(sentences1)\n",
        "    train_sequences_2 = tokenizer.texts_to_sequences(sentences2)\n",
        "    leaks = [[len(set(x1)), len(set(x2)), len(set(x1).intersection(x2))]\n",
        "             for x1, x2 in zip(train_sequences_1, train_sequences_2)]\n",
        "\n",
        "    train_padded_data_1 = pad_sequences(train_sequences_1, maxlen=max_sequence_length)\n",
        "    train_padded_data_2 = pad_sequences(train_sequences_2, maxlen=max_sequence_length)\n",
        "    train_labels = np.array(is_similar)\n",
        "    leaks = np.array(leaks)\n",
        "\n",
        "    shuffle_indices = np.random.permutation(np.arange(len(train_labels)))\n",
        "    train_data_1_shuffled = train_padded_data_1[shuffle_indices]\n",
        "    train_data_2_shuffled = train_padded_data_2[shuffle_indices]\n",
        "    train_labels_shuffled = train_labels[shuffle_indices]\n",
        "    leaks_shuffled = leaks[shuffle_indices]\n",
        "\n",
        "    dev_idx = max(1, int(len(train_labels_shuffled) * validation_split_ratio))\n",
        "\n",
        "    del train_padded_data_1\n",
        "    del train_padded_data_2\n",
        "    gc.collect()\n",
        "    train_data_1, val_data_1 = train_data_1_shuffled[:-dev_idx], train_data_1_shuffled[-dev_idx:]\n",
        "    train_data_2, val_data_2 = train_data_2_shuffled[:-dev_idx], train_data_2_shuffled[-dev_idx:]\n",
        "    labels_train, labels_val = train_labels_shuffled[:-dev_idx], train_labels_shuffled[-dev_idx:]\n",
        "    leaks_train, leaks_val = leaks_shuffled[:-dev_idx], leaks_shuffled[-dev_idx:]\n",
        "\n",
        "    return train_data_1, train_data_2, labels_train, leaks_train, val_data_1, val_data_2, labels_val, leaks_val\n",
        "\n",
        "\n",
        "def create_test_data(tokenizer, test_sentences_pair, max_sequence_length):\n",
        "    test_sentences1 = [x[0] for x in test_sentences_pair]\n",
        "    test_sentences2 = [x[1] for x in test_sentences_pair]\n",
        "    test_sequences_1 = tokenizer.texts_to_sequences(test_sentences1)\n",
        "    test_sequences_2 = tokenizer.texts_to_sequences(test_sentences2)\n",
        "    leaks_test = [[len(set(x1)), len(set(x2)), len(set(x1).intersection(x2))]\n",
        "                  for x1, x2 in zip(test_sequences_1, test_sequences_2)]\n",
        "\n",
        "    leaks_test = np.array(leaks_test)\n",
        "    test_data_1 = pad_sequences(test_sequences_1, maxlen=max_sequence_length)\n",
        "    test_data_2 = pad_sequences(test_sequences_2, maxlen=max_sequence_length)\n",
        "\n",
        "    return test_data_1, test_data_2, leaks_test"
      ]
    },
    {
      "cell_type": "code",
      "execution_count": null,
      "metadata": {
        "id": "_R5gLm8GEzSr"
      },
      "outputs": [],
      "source": [
        "######## Word Embedding(train)############\n",
        "tokenizer, embedding_matrix = word_embed_meta_data(sentences1 + sentences2,  300)\n",
        "\n",
        "embedding_meta_data = {\n",
        "\t'tokenizer': tokenizer,\n",
        "\t'embedding_matrix': embedding_matrix\n",
        "}\n",
        "## creating sentence pairs\n",
        "sentences_pair = [(x1, x2) for x1, x2 in zip(sentences1, sentences2)]\n",
        "\n",
        "\n",
        "######## Word embedding_matrix(test)############\n",
        "tokenizer_test, embedding_matrix_test = word_embed_meta_data(sentences1_test + sentences2_test,  300)\n",
        "\n",
        "embedding_meta_data_test = {\n",
        "\t'tokenizer': tokenizer_test,\n",
        "\t'embedding_matrix': embedding_matrix_test\n",
        "}\n",
        "## creating sentence pairs\n",
        "sentences_pair_test = [(x1, x2) for x1, x2 in zip(sentences1_test, sentences2_test)]\n",
        "del sentences1\n",
        "del sentences2\n",
        "del sentences1_test\n",
        "del sentences2_test"
      ]
    },
    {
      "cell_type": "code",
      "execution_count": null,
      "metadata": {
        "colab": {
          "base_uri": "https://localhost:8080/",
          "height": 573
        },
        "id": "qUrVJJpAox0N",
        "outputId": "ca9b3ca1-6e8a-4eff-e74f-6872e6031302"
      },
      "outputs": [
        {
          "data": {
            "image/png": "[encoded data removed]",
            "text/plain": [
              "<Figure size 432x288 with 1 Axes>"
            ]
          },
          "metadata": {
            "needs_background": "light"
          },
          "output_type": "display_data"
        },
        {
          "data": {
            "image/png": "[encoded data removed]",
            "text/plain": [
              "<Figure size 432x288 with 1 Axes>"
            ]
          },
          "metadata": {
            "needs_background": "light"
          },
          "output_type": "display_data"
        }
      ],
      "source": [
        "# Plot accuracy\n",
        "plt.plot(history.history['acc'])\n",
        "plt.plot(history.history['val_acc'])\n",
        "plt.title('Model Accuracy')\n",
        "plt.ylabel('Accuracy')\n",
        "plt.xlabel('Epoch')\n",
        "plt.legend(['Train', 'Validation'], loc='upper left')\n",
        "plt.show()\n",
        "\n",
        "# Plot loss\n",
        "plt.plot(history.history['loss'])\n",
        "plt.plot(history.history['val_loss'])\n",
        "plt.title('Model Loss')\n",
        "plt.ylabel('Loss')\n",
        "plt.xlabel('Epoch')\n",
        "plt.legend(['Train', 'Validation'], loc='upper right')\n",
        "plt.show()"
      ]
    },
    {
      "cell_type": "code",
      "execution_count": null,
      "metadata": {
        "colab": {
          "base_uri": "https://localhost:8080/"
        },
        "id": "fex4b60b9dzc",
        "outputId": "a4acb790-ebd3-4973-949d-c8b8233891d2"
      },
      "outputs": [
        {
          "name": "stderr",
          "output_type": "stream",
          "text": [
            "WARNING:tensorflow:Layer lstm will not use cuDNN kernels since it doesn't meet the criteria. It will use a generic GPU kernel as fallback when running on GPU.\n",
            "WARNING:tensorflow:Layer lstm will not use cuDNN kernels since it doesn't meet the criteria. It will use a generic GPU kernel as fallback when running on GPU.\n",
            "WARNING:tensorflow:Layer lstm will not use cuDNN kernels since it doesn't meet the criteria. It will use a generic GPU kernel as fallback when running on GPU.\n"
          ]
        },
        {
          "name": "stdout",
          "output_type": "stream",
          "text": [
            "Epoch 1/40\n",
            "76/76 [==============================] - 28s 196ms/step - loss: 0.7355 - acc: 0.4593 - val_loss: 0.6279 - val_acc: 0.5500\n",
            "Epoch 2/40\n",
            "76/76 [==============================] - 14s 185ms/step - loss: 0.6051 - acc: 0.5619 - val_loss: 0.5475 - val_acc: 0.6019\n",
            "Epoch 3/40\n",
            "76/76 [==============================] - 16s 216ms/step - loss: 0.5034 - acc: 0.6453 - val_loss: 0.4454 - val_acc: 0.6889\n",
            "Epoch 4/40\n",
            "76/76 [==============================] - 14s 183ms/step - loss: 0.3980 - acc: 0.7136 - val_loss: 0.3328 - val_acc: 0.7500\n",
            "Epoch 5/40\n",
            "76/76 [==============================] - 14s 185ms/step - loss: 0.3242 - acc: 0.7475 - val_loss: 0.2406 - val_acc: 0.7593\n",
            "Epoch 6/40\n",
            "76/76 [==============================] - 14s 189ms/step - loss: 0.2804 - acc: 0.7597 - val_loss: 0.2292 - val_acc: 0.7593\n",
            "Epoch 7/40\n",
            "76/76 [==============================] - 14s 190ms/step - loss: 0.2495 - acc: 0.7652 - val_loss: 0.2004 - val_acc: 0.7574\n",
            "Epoch 8/40\n",
            "76/76 [==============================] - 14s 190ms/step - loss: 0.2288 - acc: 0.7650 - val_loss: 0.1834 - val_acc: 0.7611\n",
            "Epoch 9/40\n",
            "76/76 [==============================] - 14s 187ms/step - loss: 0.2167 - acc: 0.7679 - val_loss: 0.1805 - val_acc: 0.7593\n",
            "Epoch 10/40\n",
            "76/76 [==============================] - 14s 184ms/step - loss: 0.2001 - acc: 0.7691 - val_loss: 0.1749 - val_acc: 0.7611\n",
            "Epoch 11/40\n",
            "76/76 [==============================] - 14s 189ms/step - loss: 0.1955 - acc: 0.7689 - val_loss: 0.1727 - val_acc: 0.7630\n",
            "Epoch 12/40\n",
            "76/76 [==============================] - 14s 183ms/step - loss: 0.1952 - acc: 0.7677 - val_loss: 0.1730 - val_acc: 0.7611\n",
            "Epoch 13/40\n",
            "76/76 [==============================] - 14s 183ms/step - loss: 0.1881 - acc: 0.7693 - val_loss: 0.1738 - val_acc: 0.7574\n",
            "Epoch 14/40\n",
            "76/76 [==============================] - 14s 183ms/step - loss: 0.1875 - acc: 0.7691 - val_loss: 0.1755 - val_acc: 0.7593\n",
            "Epoch 15/40\n",
            "76/76 [==============================] - 14s 182ms/step - loss: 0.1786 - acc: 0.7722 - val_loss: 0.1765 - val_acc: 0.7556\n",
            "Epoch 16/40\n",
            "76/76 [==============================] - 14s 185ms/step - loss: 0.1815 - acc: 0.7702 - val_loss: 0.1764 - val_acc: 0.7593\n",
            "Epoch 17/40\n",
            "76/76 [==============================] - 14s 183ms/step - loss: 0.1841 - acc: 0.7704 - val_loss: 0.1776 - val_acc: 0.7593\n",
            "Epoch 18/40\n",
            "76/76 [==============================] - 16s 206ms/step - loss: 0.1775 - acc: 0.7710 - val_loss: 0.1806 - val_acc: 0.7593\n",
            "Epoch 19/40\n",
            "76/76 [==============================] - 14s 183ms/step - loss: 0.1814 - acc: 0.7702 - val_loss: 0.1799 - val_acc: 0.7574\n",
            "Epoch 20/40\n",
            "76/76 [==============================] - 14s 187ms/step - loss: 0.1792 - acc: 0.7720 - val_loss: 0.1768 - val_acc: 0.7593\n",
            "Epoch 21/40\n",
            "76/76 [==============================] - 14s 186ms/step - loss: 0.1781 - acc: 0.7716 - val_loss: 0.1787 - val_acc: 0.7611\n",
            "Epoch 22/40\n",
            "76/76 [==============================] - 14s 183ms/step - loss: 0.1779 - acc: 0.7706 - val_loss: 0.1786 - val_acc: 0.7593\n",
            "Epoch 23/40\n",
            "76/76 [==============================] - 14s 181ms/step - loss: 0.1735 - acc: 0.7730 - val_loss: 0.1793 - val_acc: 0.7611\n",
            "Epoch 24/40\n",
            "76/76 [==============================] - 14s 182ms/step - loss: 0.1760 - acc: 0.7710 - val_loss: 0.1853 - val_acc: 0.7593\n",
            "Epoch 25/40\n",
            "76/76 [==============================] - 14s 182ms/step - loss: 0.1719 - acc: 0.7726 - val_loss: 0.1806 - val_acc: 0.7574\n",
            "Epoch 26/40\n",
            "76/76 [==============================] - 14s 179ms/step - loss: 0.1734 - acc: 0.7722 - val_loss: 0.1756 - val_acc: 0.7611\n",
            "Epoch 27/40\n",
            "76/76 [==============================] - 14s 178ms/step - loss: 0.1726 - acc: 0.7718 - val_loss: 0.1762 - val_acc: 0.7611\n",
            "Epoch 28/40\n",
            "76/76 [==============================] - 14s 181ms/step - loss: 0.1725 - acc: 0.7730 - val_loss: 0.1712 - val_acc: 0.7593\n",
            "Epoch 29/40\n",
            "76/76 [==============================] - 14s 182ms/step - loss: 0.1739 - acc: 0.7716 - val_loss: 0.1773 - val_acc: 0.7593\n",
            "Epoch 30/40\n",
            "76/76 [==============================] - 14s 182ms/step - loss: 0.1717 - acc: 0.7726 - val_loss: 0.1827 - val_acc: 0.7574\n",
            "Epoch 31/40\n",
            "76/76 [==============================] - 14s 180ms/step - loss: 0.1738 - acc: 0.7720 - val_loss: 0.1833 - val_acc: 0.7574\n",
            "Epoch 32/40\n",
            "76/76 [==============================] - 13s 176ms/step - loss: 0.1760 - acc: 0.7695 - val_loss: 0.1765 - val_acc: 0.7593\n",
            "Epoch 33/40\n",
            "76/76 [==============================] - 13s 177ms/step - loss: 0.1693 - acc: 0.7733 - val_loss: 0.1843 - val_acc: 0.7593\n",
            "Epoch 34/40\n",
            "76/76 [==============================] - 16s 206ms/step - loss: 0.1710 - acc: 0.7730 - val_loss: 0.1757 - val_acc: 0.7611\n",
            "Epoch 35/40\n",
            "76/76 [==============================] - 14s 181ms/step - loss: 0.1706 - acc: 0.7724 - val_loss: 0.1744 - val_acc: 0.7593\n",
            "Epoch 36/40\n",
            "76/76 [==============================] - 14s 181ms/step - loss: 0.1677 - acc: 0.7726 - val_loss: 0.1711 - val_acc: 0.7611\n",
            "Epoch 37/40\n",
            "76/76 [==============================] - 14s 179ms/step - loss: 0.1696 - acc: 0.7728 - val_loss: 0.1726 - val_acc: 0.7593\n",
            "Epoch 38/40\n",
            "76/76 [==============================] - 14s 182ms/step - loss: 0.1709 - acc: 0.7720 - val_loss: 0.1750 - val_acc: 0.7593\n",
            "Epoch 39/40\n",
            "76/76 [==============================] - 14s 179ms/step - loss: 0.1668 - acc: 0.7733 - val_loss: 0.1754 - val_acc: 0.7611\n",
            "Epoch 40/40\n",
            "76/76 [==============================] - 14s 181ms/step - loss: 0.1672 - acc: 0.7737 - val_loss: 0.1688 - val_acc: 0.7611\n"
          ]
        }
      ],
      "source": [
        "######## Training ########\n",
        "import time\n",
        "import os\n",
        "\n",
        "embedding_dim = 300\n",
        "max_sequence_length = 10\n",
        "number_lstm_units = 256\n",
        "rate_drop_lstm = 0.17\n",
        "number_dense_units1 = 64\n",
        "number_dense_units2 = 32\n",
        "number_dense_units3 = 16\n",
        "number_dense_units4 = 8\n",
        "activation_function = 'relu'\n",
        "rate_drop_dense = 0.4\n",
        "validation_split_ratio = 0.1\n",
        "\n",
        "\n",
        "tokenizer, embedding_matrix = embedding_meta_data['tokenizer'], embedding_meta_data['embedding_matrix']\n",
        "train_data_x1, train_data_x2, train_labels,\\\n",
        "leaks_train, val_data_x1, val_data_x2,\\\n",
        " val_labels, leaks_val = create_train_dev_set(tokenizer, sentences_pair,\n",
        "                                              is_similar, max_sequence_length,\n",
        "                                                                                            validation_split_ratio)\n",
        "nb_words = len(tokenizer.word_index) + 1\n",
        "\n",
        "# Creating word embedding layer\n",
        "embedding_layer = Embedding(nb_words, embedding_dim, weights=[embedding_matrix[:24201]],\n",
        "                                                        input_length=max_sequence_length, trainable=False)\n",
        "\n",
        "# Creating LSTM Encoder\n",
        "lstm_layer = Bidirectional(LSTM(number_lstm_units, dropout=rate_drop_lstm, recurrent_dropout=rate_drop_lstm))\n",
        "\n",
        "# Creating LSTM Encoder layer for First Sentence\n",
        "sequence_1_input = Input(shape=(max_sequence_length,), dtype='int32')\n",
        "embedded_sequences_1 = embedding_layer(sequence_1_input)\n",
        "x1 = lstm_layer(embedded_sequences_1)\n",
        "\n",
        "\n",
        "# Creating LSTM Encoder layer for Second Sentence\n",
        "sequence_2_input = Input(shape=(max_sequence_length,), dtype='int32')\n",
        "embedded_sequences_2 = embedding_layer(sequence_2_input)\n",
        "x2 = lstm_layer(embedded_sequences_2)\n",
        "\n",
        "# Creating leaks input\n",
        "leaks_input = Input(shape=(leaks_train.shape[1],))\n",
        "leaks_dense = Dense(int(number_dense_units1/2), activation=activation_function)(leaks_input)\n",
        "\n",
        "merged = concatenate([x1, x2, leaks_dense])\n",
        "merged = BatchNormalization()(merged)\n",
        "merged = Dropout(rate_drop_dense)(merged)\n",
        "merged = Dense(number_dense_units1, activation=activation_function)(merged)\n",
        "merged = BatchNormalization()(merged)\n",
        "merged = Dropout(rate_drop_dense)(merged)\n",
        "merged = Dense(number_dense_units2, activation=activation_function)(merged)\n",
        "merged = BatchNormalization()(merged)\n",
        "merged = Dropout(rate_drop_dense)(merged)\n",
        "merged = Dense(number_dense_units3, activation=activation_function)(merged)\n",
        "merged = BatchNormalization()(merged)\n",
        "merged = Dense(number_dense_units4, activation=activation_function)(merged)\n",
        "merged = BatchNormalization()(merged)\n",
        "preds = Dense(1,activation='sigmoid')(merged)\n",
        "\n",
        "model = Model(inputs=[sequence_1_input, sequence_2_input, leaks_input], outputs=preds)\n",
        "\n",
        "model.compile(loss='binary_crossentropy', optimizer='rmsprop', metrics=['acc'])\n",
        "\n",
        "#early_stopping = EarlyStopping(monitor='val_loss', patience=1)\n",
        "\n",
        "STAMP = 'lstm_%d_%d_%d_%.2f_%.2f' % (number_lstm_units, number_dense_units1, number_dense_units2,rate_drop_lstm, rate_drop_dense)\n",
        "model_save_directory=\"model1\"\n",
        "checkpoint_dir = model_save_directory + 'checkpoints/' + str(int(time.time())) + '/'\n",
        "\n",
        "if not os.path.exists(checkpoint_dir):\n",
        "        os.makedirs(checkpoint_dir)\n",
        "\n",
        "bst_model_path = checkpoint_dir + STAMP + '.h5'\n",
        "\n",
        "model_checkpoint = ModelCheckpoint(bst_model_path, save_best_only=True, save_weights_only=False)\n",
        "\n",
        "tensorboard = TensorBoard(log_dir=checkpoint_dir + \"logs/{}\".format(time.time()))\n",
        "\n",
        "history=model.fit([train_data_x1, train_data_x2, leaks_train], train_labels,\n",
        "                    validation_data=([val_data_x1, val_data_x2, leaks_val], val_labels),\n",
        "                    epochs=40, batch_size=64, shuffle=True,\n",
        "                    callbacks=[ model_checkpoint, tensorboard])"
      ]
    },
    {
      "cell_type": "code",
      "execution_count": null,
      "metadata": {
        "colab": {
          "base_uri": "https://localhost:8080/"
        },
        "id": "zM23lR4x0M3_",
        "outputId": "6a92c358-c5f2-4351-e444-a4161e41aa74"
      },
      "outputs": [
        {
          "name": "stdout",
          "output_type": "stream",
          "text": [
            "(14564, 300)\n",
            "19/19 [==============================] - 1s 25ms/step\n"
          ]
        }
      ],
      "source": [
        "from operator import itemgetter\n",
        "from keras.models import load_model\n",
        "print(embeddings_test.shape)\n",
        "test_data_1, test_data_2, leaks_test=test_data_x1, test_data_x2, leaks_test = create_test_data(tokenizer, sentences_pair_test, max_sequence_length)\n",
        "preds = list(model.predict([test_data_1, test_data_2, leaks_test], verbose=1).ravel())"
      ]
    },
    {
      "cell_type": "code",
      "execution_count": null,
      "metadata": {
        "colab": {
          "base_uri": "https://localhost:8080/"
        },
        "id": "kjkBNKlOE0LD",
        "outputId": "db26ec18-0ad7-4143-cdfc-c0bcdf906982"
      },
      "outputs": [
        {
          "name": "stdout",
          "output_type": "stream",
          "text": [
            "0\n"
          ]
        }
      ],
      "source": [
        "print(round(preds[555]*2))"
      ]
    }
  ],
  "metadata": {
    "accelerator": "GPU",
    "colab": {
      "gpuClass": "premium",
      "provenance": []
    },
    "gpuClass": "premium",
    "kernelspec": {
      "display_name": "Python 3",
      "name": "python3"
    },
    "language_info": {
      "codemirror_mode": {
        "name": "ipython",
        "version": 3
      },
      "file_extension": ".py",
      "mimetype": "text/x-python",
      "name": "python",
      "nbconvert_exporter": "python",
      "pygments_lexer": "ipython3",
      "version": "3.11.3"
    }
  },
  "nbformat": 4,
  "nbformat_minor": 0
}
